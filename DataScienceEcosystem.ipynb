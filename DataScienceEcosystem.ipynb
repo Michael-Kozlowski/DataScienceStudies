{
 "cells": [
  {
   "cell_type": "markdown",
   "id": "0eec1b65-b7e7-4043-8bc2-b277b6a23361",
   "metadata": {},
   "source": [
    "# Data Science Tools and Ecosystem"
   ]
  },
  {
   "cell_type": "markdown",
   "id": "c34ab632-9257-462d-badb-305af3cc0b02",
   "metadata": {},
   "source": [
    "### In this notebook, Data Science Tools and Ecosytem are summarized."
   ]
  },
  {
   "cell_type": "markdown",
   "id": "bd0595c8-0b88-48ec-bd0c-e7987109ea5b",
   "metadata": {},
   "source": [
    "**Objectives:**\n",
    "- List popular languages for Data Science\n",
    "- List common libraries for Data Science\n",
    "- Show some examples of arithmetic in a Jupyter Notebook"
   ]
  },
  {
   "cell_type": "markdown",
   "id": "6185073b-3dec-4d67-9d61-756e53f12bbb",
   "metadata": {},
   "source": [
    "## Author\n",
    "Michael Kozlowski"
   ]
  },
  {
   "cell_type": "markdown",
   "id": "2749bf37-39c4-4ca2-9093-77f82fc46143",
   "metadata": {},
   "source": [
    "Some of the popular languages that Data Scientists use are: \n",
    "1. Python\n",
    "2. R\n",
    "3. Java"
   ]
  },
  {
   "cell_type": "markdown",
   "id": "c992d098-aef7-4274-9883-bbd7d0e3aa41",
   "metadata": {},
   "source": [
    "Some of the commonly used libraries used by Data Scientists include:\n",
    "1. PyTorch\n",
    "2. Matplotlib\n",
    "3. Pandas"
   ]
  },
  {
   "cell_type": "markdown",
   "id": "6d082d0d-bd21-452f-a309-a1171000d96a",
   "metadata": {},
   "source": [
    "|Data Science Tools|\n",
    "|------------------|\n",
    "|Jupyter Notebooks|\n",
    "|Jupyter Lab|\n",
    "|Anaconda|"
   ]
  },
  {
   "cell_type": "markdown",
   "id": "0726c297-2364-4160-bd2e-af6b6d848aca",
   "metadata": {},
   "source": [
    "### Below are a few examples of evaluating aithmetic expressions in Python"
   ]
  },
  {
   "cell_type": "code",
   "execution_count": 2,
   "id": "e28d1c93-23ae-4779-92e5-1e6acc8fd562",
   "metadata": {},
   "outputs": [
    {
     "data": {
      "text/plain": [
       "17"
      ]
     },
     "execution_count": 2,
     "metadata": {},
     "output_type": "execute_result"
    }
   ],
   "source": [
    "# This is a simple arithmetic expression to multiply then add integers  \n",
    "(3*4)+5"
   ]
  },
  {
   "cell_type": "code",
   "execution_count": 3,
   "id": "2771cd55-b706-4bcc-88c3-d41797ee3522",
   "metadata": {},
   "outputs": [
    {
     "data": {
      "text/plain": [
       "3.3333333333333335"
      ]
     },
     "execution_count": 3,
     "metadata": {},
     "output_type": "execute_result"
    }
   ],
   "source": [
    "# This will convert 200 minutes to hours by dividing by 60\n",
    "200/60"
   ]
  }
 ],
 "metadata": {
  "kernelspec": {
   "display_name": "Python 3 (ipykernel)",
   "language": "python",
   "name": "python3"
  },
  "language_info": {
   "codemirror_mode": {
    "name": "ipython",
    "version": 3
   },
   "file_extension": ".py",
   "mimetype": "text/x-python",
   "name": "python",
   "nbconvert_exporter": "python",
   "pygments_lexer": "ipython3",
   "version": "3.11.7"
  }
 },
 "nbformat": 4,
 "nbformat_minor": 5
}
